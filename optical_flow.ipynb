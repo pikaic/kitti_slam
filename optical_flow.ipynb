{
 "cells": [
  {
   "cell_type": "code",
   "execution_count": 4,
   "metadata": {},
   "outputs": [],
   "source": [
    "import numpy as np\n",
    "import cv2"
   ]
  },
  {
   "cell_type": "code",
   "execution_count": 5,
   "metadata": {},
   "outputs": [],
   "source": [
    "def estimate_optical_flow(image1, image2):\n",
    "    # Convert images to grayscale\n",
    "    gray1 = cv2.cvtColor(image1, cv2.COLOR_BGR2GRAY)\n",
    "    gray2 = cv2.cvtColor(image2, cv2.COLOR_BGR2GRAY)\n",
    "\n",
    "    # Parameters for the Lucas-Kanade optical flow method\n",
    "    lk_params = dict(winSize=(15, 15),\n",
    "                     maxLevel=2,\n",
    "                     criteria=(cv2.TERM_CRITERIA_EPS | cv2.TERM_CRITERIA_COUNT, 10, 0.03))\n",
    "\n",
    "    # Calculate optical flow using Lucas-Kanade method\n",
    "    optical_flow = cv2.calcOpticalFlowPyrLK(gray1, gray2, None, None, **lk_params)\n",
    "\n",
    "    # Select good points\n",
    "    good_points = optical_flow[0] is not None\n",
    "\n",
    "    # Filter out the good points\n",
    "    good_old = optical_flow[0][good_points]\n",
    "    good_new = optical_flow[1][good_points]\n",
    "\n",
    "    # Calculate the motion vectors\n",
    "    motion_vectors = good_new - good_old\n",
    "\n",
    "    return good_points, good_old, motion_vectors"
   ]
  },
  {
   "cell_type": "code",
   "execution_count": 6,
   "metadata": {},
   "outputs": [],
   "source": [
    "def visualize_optical_flow(image1, good_old, motion_vectors):\n",
    "    # Create an output image as a copy of the original\n",
    "    output_image = image1.copy()\n",
    "\n",
    "    # Scale the motion vectors for better visualization\n",
    "    scale_factor = 5\n",
    "    scaled_motion_vectors = motion_vectors * scale_factor\n",
    "\n",
    "    # Draw motion vectors on the output image\n",
    "    for point, vector in zip(good_old, scaled_motion_vectors):\n",
    "        point1 = tuple(np.round(point).astype(int))\n",
    "        point2 = tuple(np.round(point + vector).astype(int))\n",
    "        cv2.arrowedLine(output_image, point1, point2, (0, 255, 0), 2)\n",
    "\n",
    "    # Display the result\n",
    "    cv2.imshow('Optical Flow Visualization', output_image)\n",
    "    cv2.waitKey(0)\n",
    "    cv2.destroyAllWindows()\n"
   ]
  },
  {
   "cell_type": "code",
   "execution_count": 7,
   "metadata": {},
   "outputs": [
    {
     "ename": "error",
     "evalue": "OpenCV(4.7.0) /io/opencv/modules/video/src/lkpyramid.cpp:1260: error: (-215:Assertion failed) (npoints = prevPtsMat.checkVector(2, CV_32F, true)) >= 0 in function 'calc'\n",
     "output_type": "error",
     "traceback": [
      "\u001b[0;31m---------------------------------------------------------------------------\u001b[0m",
      "\u001b[0;31merror\u001b[0m                                     Traceback (most recent call last)",
      "\u001b[1;32m/home/logan_20/kitti_slam/optical_flow.ipynb Cell 4\u001b[0m line \u001b[0;36m4\n\u001b[1;32m      <a href='vscode-notebook-cell://wsl%2Bubuntu-20.04/home/logan_20/kitti_slam/optical_flow.ipynb#W2sdnNjb2RlLXJlbW90ZQ%3D%3D?line=0'>1</a>\u001b[0m frame1 \u001b[39m=\u001b[39m cv2\u001b[39m.\u001b[39mimread(\u001b[39m\"\u001b[39m\u001b[39m/home/logan_20/kitti_slam/dataset/sequences/00/image_0/000000.png\u001b[39m\u001b[39m\"\u001b[39m)\n\u001b[1;32m      <a href='vscode-notebook-cell://wsl%2Bubuntu-20.04/home/logan_20/kitti_slam/optical_flow.ipynb#W2sdnNjb2RlLXJlbW90ZQ%3D%3D?line=1'>2</a>\u001b[0m frame2 \u001b[39m=\u001b[39m cv2\u001b[39m.\u001b[39mimread(\u001b[39m\"\u001b[39m\u001b[39m/home/logan_20/kitti_slam/dataset/sequences/00/image_0/000001.png\u001b[39m\u001b[39m\"\u001b[39m)\n\u001b[0;32m----> <a href='vscode-notebook-cell://wsl%2Bubuntu-20.04/home/logan_20/kitti_slam/optical_flow.ipynb#W2sdnNjb2RlLXJlbW90ZQ%3D%3D?line=3'>4</a>\u001b[0m good_points, good_old, motion_vectors \u001b[39m=\u001b[39m estimate_optical_flow(frame1, frame2)\n\u001b[1;32m      <a href='vscode-notebook-cell://wsl%2Bubuntu-20.04/home/logan_20/kitti_slam/optical_flow.ipynb#W2sdnNjb2RlLXJlbW90ZQ%3D%3D?line=5'>6</a>\u001b[0m \u001b[39m# Visualize the motion vectors on the first frame\u001b[39;00m\n\u001b[1;32m      <a href='vscode-notebook-cell://wsl%2Bubuntu-20.04/home/logan_20/kitti_slam/optical_flow.ipynb#W2sdnNjb2RlLXJlbW90ZQ%3D%3D?line=6'>7</a>\u001b[0m \u001b[39mif\u001b[39;00m good_points\u001b[39m.\u001b[39many():\n",
      "\u001b[1;32m/home/logan_20/kitti_slam/optical_flow.ipynb Cell 4\u001b[0m line \u001b[0;36m1\n\u001b[1;32m      <a href='vscode-notebook-cell://wsl%2Bubuntu-20.04/home/logan_20/kitti_slam/optical_flow.ipynb#W2sdnNjb2RlLXJlbW90ZQ%3D%3D?line=6'>7</a>\u001b[0m lk_params \u001b[39m=\u001b[39m \u001b[39mdict\u001b[39m(winSize\u001b[39m=\u001b[39m(\u001b[39m15\u001b[39m, \u001b[39m15\u001b[39m),\n\u001b[1;32m      <a href='vscode-notebook-cell://wsl%2Bubuntu-20.04/home/logan_20/kitti_slam/optical_flow.ipynb#W2sdnNjb2RlLXJlbW90ZQ%3D%3D?line=7'>8</a>\u001b[0m                  maxLevel\u001b[39m=\u001b[39m\u001b[39m2\u001b[39m,\n\u001b[1;32m      <a href='vscode-notebook-cell://wsl%2Bubuntu-20.04/home/logan_20/kitti_slam/optical_flow.ipynb#W2sdnNjb2RlLXJlbW90ZQ%3D%3D?line=8'>9</a>\u001b[0m                  criteria\u001b[39m=\u001b[39m(cv2\u001b[39m.\u001b[39mTERM_CRITERIA_EPS \u001b[39m|\u001b[39m cv2\u001b[39m.\u001b[39mTERM_CRITERIA_COUNT, \u001b[39m10\u001b[39m, \u001b[39m0.03\u001b[39m))\n\u001b[1;32m     <a href='vscode-notebook-cell://wsl%2Bubuntu-20.04/home/logan_20/kitti_slam/optical_flow.ipynb#W2sdnNjb2RlLXJlbW90ZQ%3D%3D?line=10'>11</a>\u001b[0m \u001b[39m# Calculate optical flow using Lucas-Kanade method\u001b[39;00m\n\u001b[0;32m---> <a href='vscode-notebook-cell://wsl%2Bubuntu-20.04/home/logan_20/kitti_slam/optical_flow.ipynb#W2sdnNjb2RlLXJlbW90ZQ%3D%3D?line=11'>12</a>\u001b[0m optical_flow \u001b[39m=\u001b[39m cv2\u001b[39m.\u001b[39;49mcalcOpticalFlowPyrLK(gray1, gray2, \u001b[39mNone\u001b[39;49;00m, \u001b[39mNone\u001b[39;49;00m, \u001b[39m*\u001b[39;49m\u001b[39m*\u001b[39;49mlk_params)\n\u001b[1;32m     <a href='vscode-notebook-cell://wsl%2Bubuntu-20.04/home/logan_20/kitti_slam/optical_flow.ipynb#W2sdnNjb2RlLXJlbW90ZQ%3D%3D?line=13'>14</a>\u001b[0m \u001b[39m# Select good points\u001b[39;00m\n\u001b[1;32m     <a href='vscode-notebook-cell://wsl%2Bubuntu-20.04/home/logan_20/kitti_slam/optical_flow.ipynb#W2sdnNjb2RlLXJlbW90ZQ%3D%3D?line=14'>15</a>\u001b[0m good_points \u001b[39m=\u001b[39m optical_flow[\u001b[39m0\u001b[39m] \u001b[39mis\u001b[39;00m \u001b[39mnot\u001b[39;00m \u001b[39mNone\u001b[39;00m\n",
      "\u001b[0;31merror\u001b[0m: OpenCV(4.7.0) /io/opencv/modules/video/src/lkpyramid.cpp:1260: error: (-215:Assertion failed) (npoints = prevPtsMat.checkVector(2, CV_32F, true)) >= 0 in function 'calc'\n"
     ]
    }
   ],
   "source": [
    "frame1 = cv2.imread(\"/home/logan_20/kitti_slam/dataset/sequences/00/image_0/000000.png\")\n",
    "frame2 = cv2.imread(\"/home/logan_20/kitti_slam/dataset/sequences/00/image_0/000001.png\")\n",
    "\n",
    "good_points, good_old, motion_vectors = estimate_optical_flow(frame1, frame2)\n",
    "\n",
    "# Visualize the motion vectors on the first frame\n",
    "if good_points.any():\n",
    "    visualize_optical_flow(frame1, good_old, motion_vectors)\n",
    "else:\n",
    "    print(\"No good points found for optical flow.\")"
   ]
  }
 ],
 "metadata": {
  "kernelspec": {
   "display_name": "slam",
   "language": "python",
   "name": "python3"
  },
  "language_info": {
   "codemirror_mode": {
    "name": "ipython",
    "version": 3
   },
   "file_extension": ".py",
   "mimetype": "text/x-python",
   "name": "python",
   "nbconvert_exporter": "python",
   "pygments_lexer": "ipython3",
   "version": "3.11.3"
  }
 },
 "nbformat": 4,
 "nbformat_minor": 2
}
