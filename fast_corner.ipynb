{
 "cells": [
  {
   "cell_type": "code",
   "execution_count": 1,
   "metadata": {},
   "outputs": [],
   "source": [
    "import cv2\n",
    "import numpy as np"
   ]
  },
  {
   "cell_type": "code",
   "execution_count": 2,
   "metadata": {},
   "outputs": [],
   "source": [
    "# img1 = cv2.imread('/home/logan_20/kitti_slam/dataset/sequences/00/image_0/000000.png', cv2.IMREAD_GRAYSCALE)\n",
    "# img2 = cv2.imread('/home/logan_20/kitti_slam/dataset/sequences/00/image_0/000001.png', cv2.IMREAD_GRAYSCALE)"
   ]
  },
  {
   "cell_type": "code",
   "execution_count": 3,
   "metadata": {},
   "outputs": [],
   "source": [
    "\n",
    "\n",
    "# # Load two images\n",
    "# img1 = cv2.imread('/home/logan_20/kitti_slam/dataset/sequences/00/image_0/000000.png')\n",
    "# img2 = cv2.imread('/home/logan_20/kitti_slam/dataset/sequences/00/image_0/000001.png')\n",
    "\n",
    "# # Convert images to grayscale\n",
    "# gray1 = cv2.cvtColor(img1, cv2.COLOR_BGR2GRAY)\n",
    "# gray2 = cv2.cvtColor(img2, cv2.COLOR_BGR2GRAY)\n",
    "\n",
    "# # Create a FAST detector object\n",
    "# fast = cv2.FastFeatureDetector_create()\n",
    "\n",
    "# # Detect keypoints in both images\n",
    "# kp1 = fast.detect(gray1, None)\n",
    "# kp2 = fast.detect(gray2, None)\n",
    "\n",
    "# pts1 = np.array([kp.pt for kp in kp1], dtype=np.int32)\n",
    "# pts2 = np.array([kp.pt for kp in kp2], dtype=np.int32)\n",
    "\n",
    "\n",
    "# img_pl1 = cv2.polylines(gray1, [pts1], False, (0, 255, 0), 2)\n",
    "# img_pl2 = cv2.polylines(gray2, [pts2], False, (0, 255, 0), 2)\n",
    "\n",
    "# # Draw detected keypoints on the images\n",
    "# # img_kp1 = cv2.drawKeypoints(gray1, kp1, None)\n",
    "# # img_kp2 = cv2.drawKeypoints(gray2, kp2, None)\n",
    "\n",
    "# # Display the images with detected keypoints\n",
    "# cv2.imshow('Image 1', img_pl1)\n",
    "# cv2.imshow('Image 2', img_pl2)\n",
    "# cv2.waitKey(0)\n",
    "# cv2.destroyAllWindows()"
   ]
  },
  {
   "cell_type": "code",
   "execution_count": 4,
   "metadata": {},
   "outputs": [],
   "source": [
    "\n",
    "import cv2\n",
    "import numpy as np\n",
    "import random\n",
    "\n",
    "# Load two images\n",
    "img1 = cv2.imread('/home/logan_20/kitti_slam/dataset/sequences/00/image_0/000000.png')\n",
    "img2 = cv2.imread('/home/logan_20/kitti_slam/dataset/sequences/00/image_0/000001.png')\n",
    "\n",
    "# Convert images to grayscale\n",
    "gray1 = cv2.cvtColor(img1, cv2.COLOR_BGR2GRAY)\n",
    "gray2 = cv2.cvtColor(img2, cv2.COLOR_BGR2GRAY)\n",
    "\n",
    "# Create a FAST detector object\n",
    "fast = cv2.FastFeatureDetector_create()\n",
    "\n",
    "# Detect keypoints in both images\n",
    "kp1 = fast.detect(gray1, None)\n",
    "kp2 = fast.detect(gray2, None)\n",
    "\n",
    "# Convert keypoints to numpy arrays\n",
    "pts1 = np.array([kp.pt for kp in kp1], dtype=np.int32)\n",
    "pts2 = np.array([kp.pt for kp in kp2], dtype=np.int32)\n",
    "\n",
    "# Convert images to BGR color space\n",
    "img_pl1 = cv2.cvtColor(gray1, cv2.COLOR_GRAY2BGR)\n",
    "img_pl2 = cv2.cvtColor(gray2, cv2.COLOR_GRAY2BGR)\n",
    "\n",
    "# Draw polylines on the images with random colors\n",
    "for i in range(len(pts1)):\n",
    "    color = (random.randint(0, 255), random.randint(0, 255), random.randint(0, 255))\n",
    "    img_pl1 = cv2.polylines(img_pl1, [pts1[i:i+2]], False, color, 2)\n",
    "for i in range(len(pts2)):\n",
    "    color = (random.randint(0, 255), random.randint(0, 255), random.randint(0, 255))\n",
    "    img_pl2 = cv2.polylines(img_pl2, [pts2[i:i+2]], False, color, 2)\n",
    "\n",
    "# Display the images with drawn polylines\n",
    "cv2.imshow('Image 1', img_pl1)\n",
    "cv2.imshow('Image 2', img_pl2)\n",
    "cv2.waitKey(0)\n",
    "cv2.destroyAllWindows()"
   ]
  }
 ],
 "metadata": {
  "kernelspec": {
   "display_name": "slam",
   "language": "python",
   "name": "python3"
  },
  "language_info": {
   "codemirror_mode": {
    "name": "ipython",
    "version": 3
   },
   "file_extension": ".py",
   "mimetype": "text/x-python",
   "name": "python",
   "nbconvert_exporter": "python",
   "pygments_lexer": "ipython3",
   "version": "3.11.3"
  }
 },
 "nbformat": 4,
 "nbformat_minor": 2
}
